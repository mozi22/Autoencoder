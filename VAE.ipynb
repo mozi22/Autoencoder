{
 "cells": [
  {
   "cell_type": "code",
   "execution_count": 5,
   "metadata": {},
   "outputs": [],
   "source": [
    "from keras.layers import Input, Conv2D, Conv2DTranspose, LeakyReLU, Flatten, Dense, Reshape, Lambda\n",
    "from keras.backend import random_normal\n",
    "from keras.models import Model\n",
    "from keras import optimizers\n",
    "import numpy as np\n",
    "import tensorflow as tf\n",
    "import keras.backend as K\n",
    "import keras"
   ]
  },
  {
   "cell_type": "code",
   "execution_count": 7,
   "metadata": {},
   "outputs": [],
   "source": [
    "def _parse_function(filename):\n",
    "    r_image_string = tf.read_file(filename)\n",
    "    r_image_decoded = tf.image.decode_jpeg(r_image_string,channels=3)\n",
    "    r_image_decoded = tf.reshape(r_image_decoded,[256,256,3])\n",
    "    r_image_decoded = tf.image.convert_image_dtype(r_image_decoded,tf.float32)\n",
    "\n",
    "    # r_image_decoded = tf.divide(r_image_decoded,[255])\n",
    "\n",
    "\n",
    "    r_image_decoded_std = tf.image.per_image_standardization(r_image_decoded)\n",
    "\n",
    "    r_image_decoded_std = tf.image.resize_images(r_image_decoded_std,[64,64])\n",
    "\n",
    "    return r_image_decoded_std\n",
    "\n",
    "\n",
    "\n",
    "def parse():\n",
    "    rainy_start = 637\n",
    "    rainy_end = 1207\n",
    "\n",
    "    rainy_files = []\n",
    "\n",
    "    for i in range(rainy_start,rainy_end):\n",
    "        file_id = \"{0:0=4d}\".format(i)\n",
    "        rainy_files.append('./rainy/000'+str(file_id)+'.jpeg')\n",
    "\n",
    "\n",
    "    rainy_filenames = tf.constant(rainy_files)\n",
    "\n",
    "    dataset = tf.data.Dataset.from_tensor_slices(rainy_filenames)\n",
    "    dataset = dataset.map(_parse_function).repeat().shuffle(buffer_size=50).batch(4,True)\n",
    "    return dataset\n"
   ]
  },
  {
   "cell_type": "code",
   "execution_count": 8,
   "metadata": {},
   "outputs": [],
   "source": [
    "def vae_loss(y_true, y_pred):\n",
    "    kl = K.sum(0.5 * K.sum(K.exp(dense_std) + K.square(dense_mean) - 1. - dense_std, axis=1))\n",
    "    \n",
    "    \n",
    "    recon = K.sum(K.binary_crossentropy(y_pred, y_true), axis=1)\n",
    "\n",
    "    \n",
    "    return kl + recon\n",
    "\n",
    "\n",
    "def sampling(args):\n",
    "    \"\"\"Reparameterization trick by sampling from an isotropic unit Gaussian.\n",
    "    # Arguments\n",
    "        args (tensor): mean and log of variance of Q(z|X)\n",
    "    # Returns\n",
    "        z (tensor): sampled latent vector\n",
    "    \"\"\"\n",
    "\n",
    "    z_mean, z_log_var = args\n",
    "    batch = K.shape(z_mean)[0]\n",
    "    dim = K.int_shape(z_mean)[1]\n",
    "    # by default, random_normal has mean = 0 and std = 1.0\n",
    "    epsilon = K.random_normal(shape=(batch, dim))\n",
    "    return z_mean + K.exp(0.5 * z_log_var) * epsilon"
   ]
  },
  {
   "cell_type": "code",
   "execution_count": 9,
   "metadata": {},
   "outputs": [
    {
     "name": "stdout",
     "output_type": "stream",
     "text": [
      "WARNING:tensorflow:From /home/muazzam/.local/lib/python3.7/site-packages/tensorflow/python/ops/control_flow_ops.py:3632: colocate_with (from tensorflow.python.framework.ops) is deprecated and will be removed in a future version.\n",
      "Instructions for updating:\n",
      "Colocations handled automatically by placer.\n",
      "WARNING:tensorflow:From /home/muazzam/.local/lib/python3.7/site-packages/tensorflow/python/ops/image_ops_impl.py:1241: div (from tensorflow.python.ops.math_ops) is deprecated and will be removed in a future version.\n",
      "Instructions for updating:\n",
      "Deprecated in favor of operator or tf.math.divide.\n"
     ]
    }
   ],
   "source": [
    "batch_size = 4\n",
    "dataset = parse().make_one_shot_iterator()\n",
    "inputt = Input(tensor=dataset.get_next())\n",
    "\n",
    "# encoder\n",
    "conv1 = Conv2D(32, kernel_size=2, strides=2)(inputt)\n",
    "conv1 = LeakyReLU(alpha=0.2)(conv1)\n",
    "conv2 = Conv2D(64, kernel_size=2, strides=2)(conv1)\n",
    "conv2 = LeakyReLU(alpha=0.2)(conv2)\n",
    "\n",
    "conv3 = Conv2D(128, kernel_size=2, strides=2)(conv2)\n",
    "conv3 = LeakyReLU(alpha=0.2)(conv3)\n",
    "\n",
    "# latent space\n",
    "flattened = Flatten()(conv3)\n",
    "dense_mean = Dense(1024)(flattened)\n",
    "dense_std = Dense(1024)(flattened)\n",
    "\n",
    "# random_normal_samples = random_normal([batch_size,1024])\n",
    "z = Lambda(sampling, output_shape=(1024,), name='z')([dense_mean, dense_std])\n",
    "# decoder\n",
    "conv3_shape = conv3.shape.as_list()\n",
    "dense_transpose = Dense(conv3_shape[1]*conv3_shape[2]*conv3_shape[3])(z)\n",
    "conv3t = Reshape((conv3_shape[1],conv3_shape[2],conv3_shape[3]))(dense_transpose)\n",
    "conv2t = Conv2DTranspose(64,kernel_size=2,strides=2)(conv3t)\n",
    "conv1t = Conv2DTranspose(32,kernel_size=2,strides=2)(conv2t)\n",
    "\n",
    "output = Conv2DTranspose(3,kernel_size=2,strides=2)(conv1t)\n",
    "\n"
   ]
  },
  {
   "cell_type": "code",
   "execution_count": 14,
   "metadata": {},
   "outputs": [
    {
     "name": "stdout",
     "output_type": "stream",
     "text": [
      "Epoch 1/5\n",
      " - 2s - loss: -5.3629e+14\n",
      "Epoch 2/5\n",
      " - 2s - loss: -7.3473e+14\n",
      "Epoch 3/5\n",
      " - 2s - loss: -7.1989e+14\n",
      "Epoch 4/5\n",
      " - 2s - loss: -7.4765e+14\n",
      "Epoch 5/5\n",
      " - 2s - loss: -8.8723e+14\n"
     ]
    },
    {
     "data": {
      "text/plain": [
       "<keras.callbacks.History at 0x7fb21c3c33c8>"
      ]
     },
     "execution_count": 14,
     "metadata": {},
     "output_type": "execute_result"
    }
   ],
   "source": [
    "tb = keras.callbacks.TensorBoard(log_dir='./ckpt', write_grads=True, write_graph=True, write_images=True)\n",
    "\n",
    "\n",
    "model = Model(inputt, output)\n",
    "model.compile(optimizers.Adam(), loss=vae_loss, target_tensors=[dataset.get_next()])\n",
    "model.fit(steps_per_epoch=100, epochs=5, verbose=2, callbacks=[tb])"
   ]
  },
  {
   "cell_type": "code",
   "execution_count": 214,
   "metadata": {},
   "outputs": [
    {
     "name": "stdout",
     "output_type": "stream",
     "text": [
      "__________________________________________________________________________________________________\n",
      "Layer (type)                    Output Shape         Param #     Connected to                     \n",
      "==================================================================================================\n",
      "input_113 (InputLayer)          (4, 128, 128, 3)     0                                            \n",
      "__________________________________________________________________________________________________\n",
      "conv2d_300 (Conv2D)             (4, 64, 64, 32)      416         input_113[0][0]                  \n",
      "__________________________________________________________________________________________________\n",
      "leaky_re_lu_292 (LeakyReLU)     (4, 64, 64, 32)      0           conv2d_300[0][0]                 \n",
      "__________________________________________________________________________________________________\n",
      "conv2d_301 (Conv2D)             (4, 32, 32, 64)      8256        leaky_re_lu_292[0][0]            \n",
      "__________________________________________________________________________________________________\n",
      "leaky_re_lu_293 (LeakyReLU)     (4, 32, 32, 64)      0           conv2d_301[0][0]                 \n",
      "__________________________________________________________________________________________________\n",
      "conv2d_302 (Conv2D)             (4, 16, 16, 128)     32896       leaky_re_lu_293[0][0]            \n",
      "__________________________________________________________________________________________________\n",
      "leaky_re_lu_294 (LeakyReLU)     (4, 16, 16, 128)     0           conv2d_302[0][0]                 \n",
      "__________________________________________________________________________________________________\n",
      "flatten_96 (Flatten)            (4, 32768)           0           leaky_re_lu_294[0][0]            \n",
      "__________________________________________________________________________________________________\n",
      "dense_253 (Dense)               (4, 1024)            33555456    flatten_96[0][0]                 \n",
      "__________________________________________________________________________________________________\n",
      "dense_254 (Dense)               (4, 1024)            33555456    flatten_96[0][0]                 \n",
      "__________________________________________________________________________________________________\n",
      "z (Lambda)                      (4, 1024)            0           dense_253[0][0]                  \n",
      "                                                                 dense_254[0][0]                  \n",
      "__________________________________________________________________________________________________\n",
      "dense_255 (Dense)               (4, 32768)           33587200    z[0][0]                          \n",
      "__________________________________________________________________________________________________\n",
      "reshape_61 (Reshape)            (4, 16, 16, 128)     0           dense_255[0][0]                  \n",
      "__________________________________________________________________________________________________\n",
      "conv2d_transpose_119 (Conv2DTra (4, 32, 32, 64)      32832       reshape_61[0][0]                 \n",
      "__________________________________________________________________________________________________\n",
      "conv2d_transpose_120 (Conv2DTra (4, 64, 64, 32)      8224        conv2d_transpose_119[0][0]       \n",
      "__________________________________________________________________________________________________\n",
      "conv2d_transpose_121 (Conv2DTra (4, 128, 128, 3)     387         conv2d_transpose_120[0][0]       \n",
      "==================================================================================================\n",
      "Total params: 100,781,123\n",
      "Trainable params: 100,781,123\n",
      "Non-trainable params: 0\n",
      "__________________________________________________________________________________________________\n"
     ]
    }
   ],
   "source": [
    "model.summary()\n"
   ]
  }
 ],
 "metadata": {
  "kernelspec": {
   "display_name": "Python 3",
   "language": "python",
   "name": "python3"
  },
  "language_info": {
   "codemirror_mode": {
    "name": "ipython",
    "version": 3
   },
   "file_extension": ".py",
   "mimetype": "text/x-python",
   "name": "python",
   "nbconvert_exporter": "python",
   "pygments_lexer": "ipython3",
   "version": "3.7.1"
  }
 },
 "nbformat": 4,
 "nbformat_minor": 2
}
